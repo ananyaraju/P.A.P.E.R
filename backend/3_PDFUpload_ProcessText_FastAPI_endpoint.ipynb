{
  "cells": [
    {
      "cell_type": "code",
      "execution_count": null,
      "metadata": {
        "colab": {
          "base_uri": "https://localhost:8080/"
        },
        "id": "LKAjeVtiJTvX",
        "outputId": "866e04b6-5005-43aa-ca10-2c2871e19c14"
      },
      "outputs": [
        {
          "output_type": "stream",
          "name": "stdout",
          "text": [
            "Requirement already satisfied: fastapi in /usr/local/lib/python3.10/dist-packages (0.103.2)\n",
            "Requirement already satisfied: pyngrok in /usr/local/lib/python3.10/dist-packages (7.0.0)\n",
            "Requirement already satisfied: uvicorn in /usr/local/lib/python3.10/dist-packages (0.23.2)\n",
            "Requirement already satisfied: python-multipart in /usr/local/lib/python3.10/dist-packages (0.0.6)\n",
            "Requirement already satisfied: PyPDF2 in /usr/local/lib/python3.10/dist-packages (3.0.1)\n",
            "Requirement already satisfied: anyio<4.0.0,>=3.7.1 in /usr/local/lib/python3.10/dist-packages (from fastapi) (3.7.1)\n",
            "Requirement already satisfied: pydantic!=1.8,!=1.8.1,!=2.0.0,!=2.0.1,!=2.1.0,<3.0.0,>=1.7.4 in /usr/local/lib/python3.10/dist-packages (from fastapi) (1.10.13)\n",
            "Requirement already satisfied: starlette<0.28.0,>=0.27.0 in /usr/local/lib/python3.10/dist-packages (from fastapi) (0.27.0)\n",
            "Requirement already satisfied: typing-extensions>=4.5.0 in /usr/local/lib/python3.10/dist-packages (from fastapi) (4.5.0)\n",
            "Requirement already satisfied: PyYAML in /usr/local/lib/python3.10/dist-packages (from pyngrok) (6.0.1)\n",
            "Requirement already satisfied: click>=7.0 in /usr/local/lib/python3.10/dist-packages (from uvicorn) (8.1.7)\n",
            "Requirement already satisfied: h11>=0.8 in /usr/local/lib/python3.10/dist-packages (from uvicorn) (0.14.0)\n",
            "Requirement already satisfied: idna>=2.8 in /usr/local/lib/python3.10/dist-packages (from anyio<4.0.0,>=3.7.1->fastapi) (3.4)\n",
            "Requirement already satisfied: sniffio>=1.1 in /usr/local/lib/python3.10/dist-packages (from anyio<4.0.0,>=3.7.1->fastapi) (1.3.0)\n",
            "Requirement already satisfied: exceptiongroup in /usr/local/lib/python3.10/dist-packages (from anyio<4.0.0,>=3.7.1->fastapi) (1.1.3)\n"
          ]
        }
      ],
      "source": [
        "!pip install fastapi pyngrok uvicorn python-multipart PyPDF2"
      ]
    },
    {
      "cell_type": "markdown",
      "source": [
        "## Authenticate ngrok"
      ],
      "metadata": {
        "id": "s__RIrfjcatd"
      }
    },
    {
      "cell_type": "code",
      "execution_count": null,
      "metadata": {
        "colab": {
          "base_uri": "https://localhost:8080/"
        },
        "id": "aagMrxVBz65E",
        "outputId": "47f196d9-866a-42e8-9040-5845146d32ba"
      },
      "outputs": [
        {
          "output_type": "stream",
          "name": "stdout",
          "text": [
            "Authtoken saved to configuration file: /root/.ngrok2/ngrok.yml\n"
          ]
        }
      ],
      "source": [
        "!ngrok config add-authtoken 2WXWTsDTHS7fchamHbXVlcNyvur_56bYU7JCF67SaEh3NT1ZR"
      ]
    },
    {
      "cell_type": "markdown",
      "source": [
        "## Extract function"
      ],
      "metadata": {
        "id": "zJWVyGess-Q8"
      }
    },
    {
      "cell_type": "code",
      "source": [
        "from PyPDF2 import PdfReader\n",
        "\n",
        "def extract_text_with_pyPDF(PDF_File):\n",
        "    pdf_reader = PdfReader(PDF_File)\n",
        "    raw_text = ''\n",
        "    for i, page in enumerate(pdf_reader.pages):\n",
        "        text = page.extract_text()\n",
        "        if text:\n",
        "            raw_text += text\n",
        "    return raw_text"
      ],
      "metadata": {
        "id": "YlI2-wBMs92d"
      },
      "execution_count": null,
      "outputs": []
    },
    {
      "cell_type": "markdown",
      "source": [
        "## server"
      ],
      "metadata": {
        "id": "xMv3N1gttEze"
      }
    },
    {
      "cell_type": "code",
      "execution_count": null,
      "metadata": {
        "colab": {
          "base_uri": "https://localhost:8080/"
        },
        "id": "5keh5e1VNUGX",
        "outputId": "2a9b3b06-441a-414a-d5bf-e1978b1e1a49"
      },
      "outputs": [
        {
          "output_type": "stream",
          "name": "stderr",
          "text": [
            "WARNING:pyngrok.process.ngrok:t=2023-10-09T19:29:05+0000 lvl=warn msg=\"ngrok config file found at legacy location, move to XDG location\" xdg_path=/root/.config/ngrok/ngrok.yml legacy_path=/root/.ngrok2/ngrok.yml\n",
            "INFO:     Started server process [1595]\n",
            "INFO:     Waiting for application startup.\n",
            "INFO:     Application startup complete.\n",
            "INFO:     Uvicorn running on http://127.0.0.1:8000 (Press CTRL+C to quit)\n"
          ]
        },
        {
          "output_type": "stream",
          "name": "stdout",
          "text": [
            "Public URL: https://5fe2-34-23-254-59.ngrok-free.app\n",
            "INFO:     182.79.4.251:0 - \"GET / HTTP/1.1\" 200 OK\n",
            "INFO:     182.66.218.125:0 - \"POST /upload-pdf HTTP/1.1\" 307 Temporary Redirect\n",
            "INFO:     182.66.218.125:0 - \"POST /upload-pdf/ HTTP/1.1\" 200 OK\n",
            "INFO:     182.66.218.125:0 - \"POST /upload-pdf HTTP/1.1\" 307 Temporary Redirect\n",
            "INFO:     182.66.218.125:0 - \"POST /upload-pdf/ HTTP/1.1\" 200 OK\n",
            "INFO:     182.66.218.125:0 - \"POST /upload-pdf HTTP/1.1\" 307 Temporary Redirect\n",
            "INFO:     182.66.218.125:0 - \"POST /upload-pdf/ HTTP/1.1\" 200 OK\n",
            "INFO:     182.66.218.125:0 - \"POST /upload-pdf HTTP/1.1\" 307 Temporary Redirect\n",
            "INFO:     182.66.218.125:0 - \"POST /upload-pdf/ HTTP/1.1\" 200 OK\n",
            "INFO:     182.66.218.125:0 - \"POST /upload-pdf HTTP/1.1\" 307 Temporary Redirect\n",
            "INFO:     182.66.218.125:0 - \"POST /upload-pdf/ HTTP/1.1\" 200 OK\n"
          ]
        },
        {
          "output_type": "stream",
          "name": "stderr",
          "text": [
            "INFO:     Shutting down\n",
            "INFO:     Waiting for application shutdown.\n",
            "INFO:     Application shutdown complete.\n",
            "INFO:     Finished server process [1595]\n"
          ]
        }
      ],
      "source": [
        "from fastapi import FastAPI, UploadFile, File, HTTPException\n",
        "from fastapi.middleware.cors import CORSMiddleware\n",
        "import shutil\n",
        "import os\n",
        "\n",
        "app = FastAPI()\n",
        "\n",
        "app.add_middleware(\n",
        "    CORSMiddleware,\n",
        "    allow_origins=['*'],\n",
        "    allow_credentials=True,\n",
        "    allow_methods=['*'],\n",
        "    allow_headers=['*'],\n",
        ")\n",
        "\n",
        "# Define a directory where uploaded PDF files will be saved\n",
        "UPLOAD_DIR = \"uploads\"\n",
        "\n",
        "if not os.path.exists(UPLOAD_DIR):\n",
        "    os.makedirs(UPLOAD_DIR)\n",
        "\n",
        "\n",
        "\n",
        "# API ENDPOINT FOR UPLOADING PDF  ----------------------------------------------\n",
        "\n",
        "@app.post('/upload-pdf/')\n",
        "async def upload_pdf(file: UploadFile):\n",
        "    # Check if the uploaded file is a PDF\n",
        "    if not file.filename.endswith(\".pdf\"):\n",
        "        return {\"error\": \"Only PDF files are allowed.\"}\n",
        "\n",
        "    # Define the new filename\n",
        "    new_filename = \"text.pdf\"\n",
        "    file_path = os.path.join(UPLOAD_DIR, new_filename)\n",
        "\n",
        "    # Save the uploaded PDF file with the new name\n",
        "    with open(file_path, \"wb\") as f:\n",
        "        shutil.copyfileobj(file.file, f)\n",
        "\n",
        "    # Extracting text\n",
        "    text = extract_text_with_pyPDF(\"uploads/text.pdf\")\n",
        "\n",
        "    # Return a success message\n",
        "    return {\n",
        "        \"message\": \"File uploaded successfully\",\n",
        "        \"extracted_text\": text\n",
        "    }\n",
        "\n",
        "\n",
        "\n",
        "# API ENDPOINT FOR PROCESSING TEXT  --------------------------------------------\n",
        "\n",
        "@app.post('/process-text/')\n",
        "async def process_text(input_data: dict):\n",
        "    input_text = input_data.get('text')\n",
        "    if not input_text:\n",
        "        raise HTTPException(status_code=400, detail=\"Input text not provided\")\n",
        "\n",
        "    # Reverse the input text\n",
        "    reversed_text = input_text[::-1]\n",
        "\n",
        "    return {\"reversed_text\": reversed_text}\n",
        "\n",
        "\n",
        "\n",
        "# ROOT API ENDPOINT ------------------------------------------------------------\n",
        "\n",
        "@app.get('/')\n",
        "async def root():\n",
        "    return {'hello': 'world'}\n",
        "\n",
        "import nest_asyncio\n",
        "from pyngrok import ngrok\n",
        "import uvicorn\n",
        "\n",
        "ngrok_tunnel = ngrok.connect(8000)\n",
        "print('Public URL:', ngrok_tunnel.public_url)\n",
        "nest_asyncio.apply()\n",
        "uvicorn.run(app, port=8000)\n"
      ]
    }
  ],
  "metadata": {
    "colab": {
      "provenance": []
    },
    "kernelspec": {
      "display_name": "Python 3",
      "name": "python3"
    },
    "language_info": {
      "name": "python"
    }
  },
  "nbformat": 4,
  "nbformat_minor": 0
}